{
 "cells": [
  {
   "cell_type": "code",
   "execution_count": 1,
   "metadata": {},
   "outputs": [],
   "source": [
    "import pandas as pd\n",
    "import numpy as np"
   ]
  },
  {
   "cell_type": "code",
   "execution_count": 3,
   "metadata": {},
   "outputs": [
    {
     "data": {
      "text/html": [
       "<div>\n",
       "<style scoped>\n",
       "    .dataframe tbody tr th:only-of-type {\n",
       "        vertical-align: middle;\n",
       "    }\n",
       "\n",
       "    .dataframe tbody tr th {\n",
       "        vertical-align: top;\n",
       "    }\n",
       "\n",
       "    .dataframe thead th {\n",
       "        text-align: right;\n",
       "    }\n",
       "</style>\n",
       "<table border=\"1\" class=\"dataframe\">\n",
       "  <thead>\n",
       "    <tr style=\"text-align: right;\">\n",
       "      <th></th>\n",
       "      <th>Transaction ID</th>\n",
       "      <th>Date</th>\n",
       "      <th>Time</th>\n",
       "      <th>Type</th>\n",
       "      <th>Name</th>\n",
       "      <th>Emoji</th>\n",
       "      <th>Category</th>\n",
       "      <th>Amount</th>\n",
       "      <th>Currency</th>\n",
       "      <th>Local amount</th>\n",
       "      <th>Local currency</th>\n",
       "      <th>Notes and #tags</th>\n",
       "      <th>Address</th>\n",
       "      <th>Receipt</th>\n",
       "      <th>Description</th>\n",
       "      <th>Category split</th>\n",
       "      <th>Money Out</th>\n",
       "      <th>Money In</th>\n",
       "    </tr>\n",
       "  </thead>\n",
       "  <tbody>\n",
       "    <tr>\n",
       "      <th>0</th>\n",
       "      <td>tx_0000A1kDhZJhXbMQuBObb8</td>\n",
       "      <td>01/12/2020</td>\n",
       "      <td>03:25:07</td>\n",
       "      <td>Direct Debit</td>\n",
       "      <td>Tower Hamlets Council</td>\n",
       "      <td>NaN</td>\n",
       "      <td>Bills</td>\n",
       "      <td>-142.00</td>\n",
       "      <td>GBP</td>\n",
       "      <td>-142.00</td>\n",
       "      <td>GBP</td>\n",
       "      <td>01      1009756233</td>\n",
       "      <td>NaN</td>\n",
       "      <td>NaN</td>\n",
       "      <td>01      1009756233</td>\n",
       "      <td>NaN</td>\n",
       "      <td>-142.00</td>\n",
       "      <td>NaN</td>\n",
       "    </tr>\n",
       "    <tr>\n",
       "      <th>1</th>\n",
       "      <td>tx_0000A1kew3coLlK7QVWVnt</td>\n",
       "      <td>01/12/2020</td>\n",
       "      <td>08:30:17</td>\n",
       "      <td>Card payment</td>\n",
       "      <td>Bubble</td>\n",
       "      <td>NaN</td>\n",
       "      <td>Family</td>\n",
       "      <td>-1.00</td>\n",
       "      <td>GBP</td>\n",
       "      <td>-1.00</td>\n",
       "      <td>GBP</td>\n",
       "      <td>NaN</td>\n",
       "      <td>16 Bartholomew Close</td>\n",
       "      <td>NaN</td>\n",
       "      <td>Bubble                 London        GBR</td>\n",
       "      <td>NaN</td>\n",
       "      <td>-1.00</td>\n",
       "      <td>NaN</td>\n",
       "    </tr>\n",
       "    <tr>\n",
       "      <th>2</th>\n",
       "      <td>tx_0000A1lM7pg4KQEpNEGEpm</td>\n",
       "      <td>01/12/2020</td>\n",
       "      <td>16:34:13</td>\n",
       "      <td>Card payment</td>\n",
       "      <td>Waterstones</td>\n",
       "      <td>📚</td>\n",
       "      <td>Entertainment</td>\n",
       "      <td>-23.97</td>\n",
       "      <td>GBP</td>\n",
       "      <td>-23.97</td>\n",
       "      <td>GBP</td>\n",
       "      <td>Christmas cards</td>\n",
       "      <td>NaN</td>\n",
       "      <td>NaN</td>\n",
       "      <td>WATERSTONES.COM        SOLIHULL      GBR</td>\n",
       "      <td>NaN</td>\n",
       "      <td>-23.97</td>\n",
       "      <td>NaN</td>\n",
       "    </tr>\n",
       "    <tr>\n",
       "      <th>3</th>\n",
       "      <td>tx_0000A1lYyGtXZxRFyD206E</td>\n",
       "      <td>01/12/2020</td>\n",
       "      <td>18:58:10</td>\n",
       "      <td>Card payment</td>\n",
       "      <td>Cupcake Jemma</td>\n",
       "      <td>💻</td>\n",
       "      <td>Eating out</td>\n",
       "      <td>-42.45</td>\n",
       "      <td>GBP</td>\n",
       "      <td>-42.45</td>\n",
       "      <td>GBP</td>\n",
       "      <td>NaN</td>\n",
       "      <td>NaN</td>\n",
       "      <td>NaN</td>\n",
       "      <td>SP * CUPCAKEJEMMA/C&amp;D  +442088748885 GBR</td>\n",
       "      <td>NaN</td>\n",
       "      <td>-42.45</td>\n",
       "      <td>NaN</td>\n",
       "    </tr>\n",
       "    <tr>\n",
       "      <th>4</th>\n",
       "      <td>tx_0000A1m0VasqylATCaiYK1</td>\n",
       "      <td>02/12/2020</td>\n",
       "      <td>00:06:43</td>\n",
       "      <td>Card payment</td>\n",
       "      <td>Bubble</td>\n",
       "      <td>NaN</td>\n",
       "      <td>Family</td>\n",
       "      <td>39.00</td>\n",
       "      <td>GBP</td>\n",
       "      <td>39.00</td>\n",
       "      <td>GBP</td>\n",
       "      <td>NaN</td>\n",
       "      <td>16 Bartholomew Close</td>\n",
       "      <td>NaN</td>\n",
       "      <td>Bubble                 London        GBR</td>\n",
       "      <td>NaN</td>\n",
       "      <td>NaN</td>\n",
       "      <td>39.0</td>\n",
       "    </tr>\n",
       "  </tbody>\n",
       "</table>\n",
       "</div>"
      ],
      "text/plain": [
       "              Transaction ID        Date      Time          Type  \\\n",
       "0  tx_0000A1kDhZJhXbMQuBObb8  01/12/2020  03:25:07  Direct Debit   \n",
       "1  tx_0000A1kew3coLlK7QVWVnt  01/12/2020  08:30:17  Card payment   \n",
       "2  tx_0000A1lM7pg4KQEpNEGEpm  01/12/2020  16:34:13  Card payment   \n",
       "3  tx_0000A1lYyGtXZxRFyD206E  01/12/2020  18:58:10  Card payment   \n",
       "4  tx_0000A1m0VasqylATCaiYK1  02/12/2020  00:06:43  Card payment   \n",
       "\n",
       "                    Name Emoji       Category  Amount Currency  Local amount  \\\n",
       "0  Tower Hamlets Council   NaN          Bills -142.00      GBP       -142.00   \n",
       "1                 Bubble   NaN         Family   -1.00      GBP         -1.00   \n",
       "2            Waterstones     📚  Entertainment  -23.97      GBP        -23.97   \n",
       "3         Cupcake Jemma      💻     Eating out  -42.45      GBP        -42.45   \n",
       "4                 Bubble   NaN         Family   39.00      GBP         39.00   \n",
       "\n",
       "  Local currency     Notes and #tags               Address  Receipt  \\\n",
       "0            GBP  01      1009756233                   NaN      NaN   \n",
       "1            GBP                 NaN  16 Bartholomew Close      NaN   \n",
       "2            GBP     Christmas cards                   NaN      NaN   \n",
       "3            GBP                 NaN                   NaN      NaN   \n",
       "4            GBP                 NaN  16 Bartholomew Close      NaN   \n",
       "\n",
       "                                Description  Category split  Money Out  \\\n",
       "0                        01      1009756233             NaN    -142.00   \n",
       "1  Bubble                 London        GBR             NaN      -1.00   \n",
       "2  WATERSTONES.COM        SOLIHULL      GBR             NaN     -23.97   \n",
       "3  SP * CUPCAKEJEMMA/C&D  +442088748885 GBR             NaN     -42.45   \n",
       "4  Bubble                 London        GBR             NaN        NaN   \n",
       "\n",
       "   Money In  \n",
       "0       NaN  \n",
       "1       NaN  \n",
       "2       NaN  \n",
       "3       NaN  \n",
       "4      39.0  "
      ]
     },
     "execution_count": 3,
     "metadata": {},
     "output_type": "execute_result"
    }
   ],
   "source": [
    "# !wget -O Monzo_data.csv users/leostepan/AnacondaProjects/Monzo_data.csv\n",
    "\n",
    "import pandas as pd\n",
    "df = pd.read_csv('/Users/leostepan/AnacondaProjects/Monzo_data.csv')\n",
    "df.head(5)"
   ]
  },
  {
   "cell_type": "code",
   "execution_count": 12,
   "metadata": {},
   "outputs": [
    {
     "name": "stdout",
     "output_type": "stream",
     "text": [
      "/bin/bash: wget: command not found\n"
     ]
    }
   ],
   "source": [
    "#Click here and press Shift+Enter\n",
    "!wget -O ChurnData.csv https://cf-courses-data.s3.us.cloud-object-storage.appdomain.cloud/IBMDeveloperSkillsNetwork-ML0101EN-SkillsNetwork/labs/Module%203/data/ChurnData.csv"
   ]
  },
  {
   "cell_type": "code",
   "execution_count": 12,
   "metadata": {},
   "outputs": [
    {
     "ename": "TclError",
     "evalue": "bad window path name \".!button6\"",
     "output_type": "error",
     "traceback": [
      "\u001b[0;31m---------------------------------------------------------------------------\u001b[0m",
      "\u001b[0;31mTclError\u001b[0m                                  Traceback (most recent call last)",
      "\u001b[0;32m<ipython-input-12-eb70aeb25266>\u001b[0m in \u001b[0;36m<module>\u001b[0;34m\u001b[0m\n\u001b[1;32m     16\u001b[0m \u001b[0;34m\u001b[0m\u001b[0m\n\u001b[1;32m     17\u001b[0m \u001b[0mbrowseButton_CSV\u001b[0m \u001b[0;34m=\u001b[0m \u001b[0mtk\u001b[0m\u001b[0;34m.\u001b[0m\u001b[0mButton\u001b[0m\u001b[0;34m(\u001b[0m\u001b[0mtext\u001b[0m\u001b[0;34m=\u001b[0m\u001b[0;34m\"      Import CSV File     \"\u001b[0m\u001b[0;34m,\u001b[0m \u001b[0mcommand\u001b[0m\u001b[0;34m=\u001b[0m\u001b[0mgetCSV\u001b[0m\u001b[0;34m,\u001b[0m \u001b[0mbg\u001b[0m\u001b[0;34m=\u001b[0m\u001b[0;34m'green'\u001b[0m\u001b[0;34m,\u001b[0m \u001b[0mfg\u001b[0m\u001b[0;34m=\u001b[0m\u001b[0;34m'white'\u001b[0m\u001b[0;34m,\u001b[0m \u001b[0mfont\u001b[0m\u001b[0;34m=\u001b[0m\u001b[0;34m(\u001b[0m\u001b[0;34m'helvetica'\u001b[0m\u001b[0;34m,\u001b[0m \u001b[0;36m12\u001b[0m\u001b[0;34m,\u001b[0m \u001b[0;34m'bold'\u001b[0m\u001b[0;34m)\u001b[0m\u001b[0;34m)\u001b[0m\u001b[0;34m\u001b[0m\u001b[0;34m\u001b[0m\u001b[0m\n\u001b[0;32m---> 18\u001b[0;31m \u001b[0mcanvas1\u001b[0m\u001b[0;34m.\u001b[0m\u001b[0mcreate_window\u001b[0m\u001b[0;34m(\u001b[0m\u001b[0;36m150\u001b[0m\u001b[0;34m,\u001b[0m \u001b[0;36m150\u001b[0m\u001b[0;34m,\u001b[0m \u001b[0mwindow\u001b[0m\u001b[0;34m=\u001b[0m\u001b[0mbrowseButton_CSV\u001b[0m\u001b[0;34m)\u001b[0m\u001b[0;34m\u001b[0m\u001b[0;34m\u001b[0m\u001b[0m\n\u001b[0m\u001b[1;32m     19\u001b[0m \u001b[0;34m\u001b[0m\u001b[0m\n\u001b[1;32m     20\u001b[0m \u001b[0mroot\u001b[0m\u001b[0;34m.\u001b[0m\u001b[0mmainloop\u001b[0m\u001b[0;34m(\u001b[0m\u001b[0;34m)\u001b[0m\u001b[0;34m\u001b[0m\u001b[0;34m\u001b[0m\u001b[0m\n",
      "\u001b[0;32m~/opt/anaconda3/lib/python3.7/tkinter/__init__.py\u001b[0m in \u001b[0;36mcreate_window\u001b[0;34m(self, *args, **kw)\u001b[0m\n\u001b[1;32m   2505\u001b[0m     \u001b[0;32mdef\u001b[0m \u001b[0mcreate_window\u001b[0m\u001b[0;34m(\u001b[0m\u001b[0mself\u001b[0m\u001b[0;34m,\u001b[0m \u001b[0;34m*\u001b[0m\u001b[0margs\u001b[0m\u001b[0;34m,\u001b[0m \u001b[0;34m**\u001b[0m\u001b[0mkw\u001b[0m\u001b[0;34m)\u001b[0m\u001b[0;34m:\u001b[0m\u001b[0;34m\u001b[0m\u001b[0;34m\u001b[0m\u001b[0m\n\u001b[1;32m   2506\u001b[0m         \u001b[0;34m\"\"\"Create window with coordinates x1,y1,x2,y2.\"\"\"\u001b[0m\u001b[0;34m\u001b[0m\u001b[0;34m\u001b[0m\u001b[0m\n\u001b[0;32m-> 2507\u001b[0;31m         \u001b[0;32mreturn\u001b[0m \u001b[0mself\u001b[0m\u001b[0;34m.\u001b[0m\u001b[0m_create\u001b[0m\u001b[0;34m(\u001b[0m\u001b[0;34m'window'\u001b[0m\u001b[0;34m,\u001b[0m \u001b[0margs\u001b[0m\u001b[0;34m,\u001b[0m \u001b[0mkw\u001b[0m\u001b[0;34m)\u001b[0m\u001b[0;34m\u001b[0m\u001b[0;34m\u001b[0m\u001b[0m\n\u001b[0m\u001b[1;32m   2508\u001b[0m     \u001b[0;32mdef\u001b[0m \u001b[0mdchars\u001b[0m\u001b[0;34m(\u001b[0m\u001b[0mself\u001b[0m\u001b[0;34m,\u001b[0m \u001b[0;34m*\u001b[0m\u001b[0margs\u001b[0m\u001b[0;34m)\u001b[0m\u001b[0;34m:\u001b[0m\u001b[0;34m\u001b[0m\u001b[0;34m\u001b[0m\u001b[0m\n\u001b[1;32m   2509\u001b[0m         \"\"\"Delete characters of text items identified by tag or id in ARGS (possibly\n",
      "\u001b[0;32m~/opt/anaconda3/lib/python3.7/tkinter/__init__.py\u001b[0m in \u001b[0;36m_create\u001b[0;34m(self, itemType, args, kw)\u001b[0m\n\u001b[1;32m   2478\u001b[0m         return self.tk.getint(self.tk.call(\n\u001b[1;32m   2479\u001b[0m             \u001b[0mself\u001b[0m\u001b[0;34m.\u001b[0m\u001b[0m_w\u001b[0m\u001b[0;34m,\u001b[0m \u001b[0;34m'create'\u001b[0m\u001b[0;34m,\u001b[0m \u001b[0mitemType\u001b[0m\u001b[0;34m,\u001b[0m\u001b[0;34m\u001b[0m\u001b[0;34m\u001b[0m\u001b[0m\n\u001b[0;32m-> 2480\u001b[0;31m             *(args + self._options(cnf, kw))))\n\u001b[0m\u001b[1;32m   2481\u001b[0m     \u001b[0;32mdef\u001b[0m \u001b[0mcreate_arc\u001b[0m\u001b[0;34m(\u001b[0m\u001b[0mself\u001b[0m\u001b[0;34m,\u001b[0m \u001b[0;34m*\u001b[0m\u001b[0margs\u001b[0m\u001b[0;34m,\u001b[0m \u001b[0;34m**\u001b[0m\u001b[0mkw\u001b[0m\u001b[0;34m)\u001b[0m\u001b[0;34m:\u001b[0m\u001b[0;34m\u001b[0m\u001b[0;34m\u001b[0m\u001b[0m\n\u001b[1;32m   2482\u001b[0m         \u001b[0;34m\"\"\"Create arc shaped region with coordinates x1,y1,x2,y2.\"\"\"\u001b[0m\u001b[0;34m\u001b[0m\u001b[0;34m\u001b[0m\u001b[0m\n",
      "\u001b[0;31mTclError\u001b[0m: bad window path name \".!button6\""
     ]
    }
   ],
   "source": []
  },
  {
   "cell_type": "code",
   "execution_count": 7,
   "metadata": {},
   "outputs": [
    {
     "data": {
      "text/plain": [
       "'nike'"
      ]
     },
     "execution_count": 7,
     "metadata": {},
     "output_type": "execute_result"
    }
   ],
   "source": [
    "f = lambda x: x**2\n",
    "f(5)"
   ]
  },
  {
   "cell_type": "code",
   "execution_count": null,
   "metadata": {},
   "outputs": [],
   "source": []
  }
 ],
 "metadata": {
  "kernelspec": {
   "display_name": "Python 3",
   "language": "python",
   "name": "python3"
  },
  "language_info": {
   "codemirror_mode": {
    "name": "ipython",
    "version": 3
   },
   "file_extension": ".py",
   "mimetype": "text/x-python",
   "name": "python",
   "nbconvert_exporter": "python",
   "pygments_lexer": "ipython3",
   "version": "3.7.4"
  }
 },
 "nbformat": 4,
 "nbformat_minor": 5
}
