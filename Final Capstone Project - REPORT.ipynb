{
 "cells": [
  {
   "cell_type": "markdown",
   "id": "13d35d18",
   "metadata": {},
   "source": [
    "### Capstone project - Applied Data Science Capstone by IBM/Coursera\n",
    "___\n",
    "# The best inner London areas to launch new coffee shops"
   ]
  },
  {
   "cell_type": "markdown",
   "id": "b0238f9e",
   "metadata": {},
   "source": [
    "![coffee cup](coffeecup.jpg)"
   ]
  },
  {
   "cell_type": "markdown",
   "id": "969b1fb4",
   "metadata": {},
   "source": [
    "### Table of contents:\n",
    "* [Introduction](#introduction)\n",
    "* [Data](#data)\n",
    "* [Methodology](#methodology)\n",
    "* [Results](#results)\n",
    "* [Discussion](#discussion)\n",
    "* [Conclusion](#conclusion)"
   ]
  },
  {
   "cell_type": "markdown",
   "id": "c8e054da",
   "metadata": {},
   "source": [
    "___\n",
    "## 1. Introduction: Business Problem <a name=\"introduction\"></a>"
   ]
  },
  {
   "cell_type": "markdown",
   "id": "b231ba8e",
   "metadata": {},
   "source": [
    "My friend has a successful inner London coffee shop and has been approached by an investor keen to develop his cafe concept into a small franchise and expand across inner London.\n",
    "\n",
    "Both he and the investor believe a key component of the cafe's success has been selecting a location close to a new high rise apartment development.  By providing a friendly, buzzy cafe with great coffee he has created a communal place for the locals, who are typically young, professional renters with high disposable income and a taste for good quality coffee in the morning on their way to work, on weekends with a pastry, and increasingly during the day whilst they work from home during Covid lockdown.\n",
    "\n",
    "He has asked me to help him identify other new high rise apartment developments that lack good coffee shops in the immediate vicinity, and will then propose these to the investor as potential sites to expand the coffee franchise."
   ]
  },
  {
   "cell_type": "markdown",
   "id": "2896adab",
   "metadata": {},
   "source": [
    "___\n",
    "## 2. Data <a name=\"data\"></a>"
   ]
  },
  {
   "cell_type": "markdown",
   "id": "6526c308",
   "metadata": {},
   "source": [
    "1. The London Development Database (LDD) which records significant planning permissions in London.\n",
    "https://data.london.gov.uk/download/planning-permissions-on-the-london-development-database--ldd-/966b9309-3969-417e-b1d0-b97cfe42404a/LDD%20-%20Housing%20Completions%20unit%20level%20%28final%29.xlsx\n",
    "\n",
    "2. A spreadsheet containing postcodes and latitude and longitude coordinates for the building developments in the final refined dataframe\n",
    "'Geospatial_Coordinates.xlsx'\n",
    "\n",
    "3. The FourSquare API which provides information on cafes.\n",
    "'https://api.foursquare.com/v2/venues/explore?&client_id={}&client_secret={}&v={}&ll={},{}&radius={}&limit={}'.format(CLIENT_ID, CLIENT_SECRET, VERSION, neighbourhood_latitude, neighbourhood_longitude, radius, LIMIT)\n"
   ]
  },
  {
   "cell_type": "markdown",
   "id": "2d0f4304",
   "metadata": {},
   "source": [
    "___\n",
    "## 3. Methodology <a name=\"methodology\"></a>"
   ]
  },
  {
   "cell_type": "markdown",
   "id": "5d9c7a77-4c01-44ad-985e-dc40a92bbf0a",
   "metadata": {},
   "source": [
    "1. Identify the areas in London with the highest number of new flats and houses recently approved.  \n",
    "- Target developments approved in the past 3 years\n",
    "- Restrict the data to include only inner London boroughs denoted by letters N, NE, NW, W, SW, S, SW, E and EC and followed by numbers 1-9. All postcodes with a number greater than 9 are outside the perimeter we're interested in.\n",
    "- Use 'Post Code' field for the location reference.\n",
    "- Use 'Total proposed units' and restrict the values to >6 to eliminate town house conversions.\n",
    "- Rename column field values so that they are more user friendly\n",
    "- Reformat date completed field to show only the year 'YYYY' to make it easier to select developments completed after 2017\n",
    "- Create a new dataframe with only the columns required\n",
    "- Remove duplicate rows to show only one row per development\n",
    "- Restrict dataframe to show developments only with >100 and <300 units completed after 2016\n",
    "- Remove incomplete post codes\n",
    "- Merge excel file with longitude and latitude for each post code using the post code field \n",
    "- Use Folium to create a map of London and plot the results on the map"
   ]
  },
  {
   "cell_type": "markdown",
   "id": "7245fdf0-4ec3-4f60-a3f9-4d40fb49387e",
   "metadata": {
    "tags": []
   },
   "source": [
    "2. Once we have identified some candidate sites, we will then identify the number of coffee shops in the local area, the mix of small independent cafes versus well known chains e.g. Costa, Pret, Starbucks, and the strength of the independent cafes ratings versus the chains.  We will use the FourSquare API to complete this step. "
   ]
  },
  {
   "cell_type": "markdown",
   "id": "abaad903-dca4-4bc1-a898-e5766ba866d8",
   "metadata": {},
   "source": [
    "3. Finally, we will then compare the most popular businesses in the vicinity of the candidate sites against the types of businesses in our current local vicinity to determine if the candidate site has clientele with similar tastes to our current site, and therefore might be more receptive to our product as is, or alternatively, might necessitate some tailoring to local tastes."
   ]
  },
  {
   "cell_type": "markdown",
   "id": "6dc35fd8",
   "metadata": {
    "tags": []
   },
   "source": [
    "___\n",
    "## 4. Results <a name=\"results\"></a>"
   ]
  },
  {
   "cell_type": "markdown",
   "id": "c92865e5-2025-4609-811a-e41ed458fa51",
   "metadata": {},
   "source": [
    "From the initial data set from the Greater London Authority containing 149,856 records we were able to identify eight developments that fit the criteria of >100 & <300 units completed after 2016.\n",
    "\n",
    "We're seeing a lot of duplicate rows which are likely amendments to the original planning permission.  \n",
    "We only want one record per development so we will cleanse the data using the drop-duplicates() function.  \n",
    "We're also seeing a lot of post codes from outer London post codes, so we will restrict the dataframe to inner london postcodes only.\n",
    "\n",
    "Another problem identified is the lack of full post codes for some developments.  \n",
    "This will make mapping the blocks impossible, so we will remove these. \n",
    "\n",
    "This is our final clean list of inner city developments.  \n",
    "We now need to import a dataframe containing latitude and longitude and then merge the two dataframes on the postcode field.\n",
    "\n",
    "I'll then use Folium to create a map of London using longitude and latitude coordinates\n",
    "\n"
   ]
  },
  {
   "cell_type": "markdown",
   "id": "e11d0105",
   "metadata": {},
   "source": [
    "___\n",
    "## 5. Discussion <a name=\"discussion\"></a>"
   ]
  },
  {
   "cell_type": "markdown",
   "id": "2448b371-e0a2-49aa-9231-6a6bf8f9f29d",
   "metadata": {},
   "source": [
    "London is a big city with a significant number of large residential development projects completed in the past three years.  I used some of the more basic data science techniques to cleanse and refine the data and decided against using machine learning techniques as this wasn't required for the business problem I was trying to solve for.\n",
    "\n",
    "I also performed data analysis through this information by adding the longitude and latitude coordinates of London boroughs as static data on GitHub. In future studies, this data can also be accessed dynamically from specific platforms or packages.\n",
    "\n",
    "I have experienced significant environment issues with this project and have given up on identifying coffee shops in the vicinity using the FourSqaure API which is a shame as I enjoyed using this API successfully in the labs.  \n",
    "\n",
    "I ended the study by visualizing the data on a map of London."
   ]
  },
  {
   "cell_type": "markdown",
   "id": "de221ab7",
   "metadata": {},
   "source": [
    "___\n",
    "## 6. Conclusion <a name=\"conclusion\"></a>"
   ]
  },
  {
   "cell_type": "markdown",
   "id": "2f39a9ae-ee19-49a5-9452-08bb19ae25eb",
   "metadata": {},
   "source": [
    "There are eight potential developments that we should investigate further as potential locations to set up a new coffee shop."
   ]
  },
  {
   "cell_type": "markdown",
   "id": "340ba967-b5eb-49de-accd-6637cf33310d",
   "metadata": {},
   "source": [
    "___"
   ]
  }
 ],
 "metadata": {
  "kernelspec": {
   "display_name": "Python",
   "language": "python",
   "name": "conda-env-python-py"
  },
  "language_info": {
   "codemirror_mode": {
    "name": "ipython",
    "version": 3
   },
   "file_extension": ".py",
   "mimetype": "text/x-python",
   "name": "python",
   "nbconvert_exporter": "python",
   "pygments_lexer": "ipython3",
   "version": "3.6.13"
  }
 },
 "nbformat": 4,
 "nbformat_minor": 5
}
