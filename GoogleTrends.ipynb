{
 "cells": [
  {
   "cell_type": "code",
   "execution_count": 1,
   "metadata": {},
   "outputs": [
    {
     "name": "stdout",
     "output_type": "stream",
     "text": [
      "Collecting pytrends\n",
      "  Downloading pytrends-4.7.3-py3-none-any.whl (14 kB)\n",
      "Requirement already satisfied: pandas>=0.25 in /Users/leostepan/opt/anaconda3/lib/python3.7/site-packages (from pytrends) (1.2.1)\n",
      "Requirement already satisfied: requests in /Users/leostepan/opt/anaconda3/lib/python3.7/site-packages (from pytrends) (2.24.0)\n",
      "Collecting lxml\n",
      "  Downloading lxml-4.6.2-cp37-cp37m-macosx_10_9_x86_64.whl (4.5 MB)\n",
      "\u001b[K     |████████████████████████████████| 4.5 MB 4.7 MB/s eta 0:00:01\n",
      "\u001b[?25hRequirement already satisfied: numpy>=1.16.5 in /Users/leostepan/opt/anaconda3/lib/python3.7/site-packages (from pandas>=0.25->pytrends) (1.20.0)\n",
      "Requirement already satisfied: python-dateutil>=2.7.3 in /Users/leostepan/opt/anaconda3/lib/python3.7/site-packages (from pandas>=0.25->pytrends) (2.8.1)\n",
      "Requirement already satisfied: pytz>=2017.3 in /Users/leostepan/opt/anaconda3/lib/python3.7/site-packages (from pandas>=0.25->pytrends) (2020.1)\n",
      "Requirement already satisfied: chardet<4,>=3.0.2 in /Users/leostepan/opt/anaconda3/lib/python3.7/site-packages (from requests->pytrends) (3.0.4)\n",
      "Requirement already satisfied: idna<3,>=2.5 in /Users/leostepan/opt/anaconda3/lib/python3.7/site-packages (from requests->pytrends) (2.10)\n",
      "Requirement already satisfied: urllib3!=1.25.0,!=1.25.1,<1.26,>=1.21.1 in /Users/leostepan/opt/anaconda3/lib/python3.7/site-packages (from requests->pytrends) (1.25.11)\n",
      "Requirement already satisfied: certifi>=2017.4.17 in /Users/leostepan/opt/anaconda3/lib/python3.7/site-packages (from requests->pytrends) (2020.12.5)\n",
      "Requirement already satisfied: six>=1.5 in /Users/leostepan/opt/anaconda3/lib/python3.7/site-packages (from python-dateutil>=2.7.3->pandas>=0.25->pytrends) (1.15.0)\n",
      "Installing collected packages: lxml, pytrends\n",
      "Successfully installed lxml-4.6.2 pytrends-4.7.3\n"
     ]
    }
   ],
   "source": [
    "!pip install pytrends"
   ]
  },
  {
   "cell_type": "code",
   "execution_count": 2,
   "metadata": {},
   "outputs": [],
   "source": [
    "import pandas as pd\n",
    "from pytrends.request import TrendReq\n",
    "\n",
    "pytrend = TrendReq()"
   ]
  },
  {
   "cell_type": "code",
   "execution_count": 9,
   "metadata": {},
   "outputs": [
    {
     "data": {
      "text/html": [
       "<div>\n",
       "<style scoped>\n",
       "    .dataframe tbody tr th:only-of-type {\n",
       "        vertical-align: middle;\n",
       "    }\n",
       "\n",
       "    .dataframe tbody tr th {\n",
       "        vertical-align: top;\n",
       "    }\n",
       "\n",
       "    .dataframe thead th {\n",
       "        text-align: right;\n",
       "    }\n",
       "</style>\n",
       "<table border=\"1\" class=\"dataframe\">\n",
       "  <thead>\n",
       "    <tr style=\"text-align: right;\">\n",
       "      <th></th>\n",
       "      <th>title</th>\n",
       "      <th>exploreQuery</th>\n",
       "    </tr>\n",
       "  </thead>\n",
       "  <tbody>\n",
       "    <tr>\n",
       "      <th>0</th>\n",
       "      <td>India vs South Africa</td>\n",
       "      <td></td>\n",
       "    </tr>\n",
       "    <tr>\n",
       "      <th>1</th>\n",
       "      <td>Cameron Boyce</td>\n",
       "      <td></td>\n",
       "    </tr>\n",
       "    <tr>\n",
       "      <th>2</th>\n",
       "      <td>Copa America</td>\n",
       "      <td></td>\n",
       "    </tr>\n",
       "    <tr>\n",
       "      <th>3</th>\n",
       "      <td>Bangladesh vs India</td>\n",
       "      <td></td>\n",
       "    </tr>\n",
       "    <tr>\n",
       "      <th>4</th>\n",
       "      <td>iPhone 11</td>\n",
       "      <td></td>\n",
       "    </tr>\n",
       "  </tbody>\n",
       "</table>\n",
       "</div>"
      ],
      "text/plain": [
       "                   title exploreQuery\n",
       "0  India vs South Africa             \n",
       "1          Cameron Boyce             \n",
       "2           Copa America             \n",
       "3    Bangladesh vs India             \n",
       "4              iPhone 11             "
      ]
     },
     "execution_count": 9,
     "metadata": {},
     "output_type": "execute_result"
    }
   ],
   "source": [
    "#pytrend.build_payload(kw_list=['coffee shop'])\n",
    "\n",
    "# Interest by region\n",
    "#df = pytrend.interest_by_region()\n",
    "#df.head(10)\n",
    "\n",
    "# Get Google Top Charts\n",
    "df = pytrend.top_charts(2019, hl='en-US', tz=300, geo='GLOBAL')\n",
    "df.head()"
   ]
  },
  {
   "cell_type": "code",
   "execution_count": null,
   "metadata": {},
   "outputs": [],
   "source": []
  }
 ],
 "metadata": {
  "kernelspec": {
   "display_name": "Python 3",
   "language": "python",
   "name": "python3"
  },
  "language_info": {
   "codemirror_mode": {
    "name": "ipython",
    "version": 3
   },
   "file_extension": ".py",
   "mimetype": "text/x-python",
   "name": "python",
   "nbconvert_exporter": "python",
   "pygments_lexer": "ipython3",
   "version": "3.7.4"
  }
 },
 "nbformat": 4,
 "nbformat_minor": 4
}
